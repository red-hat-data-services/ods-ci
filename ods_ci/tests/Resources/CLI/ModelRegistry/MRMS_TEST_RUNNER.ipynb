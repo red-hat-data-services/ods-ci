{
 "cells": [
  {
   "cell_type": "code",
   "execution_count": null,
   "id": "62280df3-74a4-48d8-be64-5b4b73f0eb4b",
   "metadata": {
    "tags": []
   },
   "outputs": [],
   "source": [
    "!pip install --no-index --find-links . model_registry-0.2.6a1-py3-none-any.whl"
   ]
  },
  {
   "cell_type": "code",
   "execution_count": null,
   "id": "6e102db9-88c6-4a5e-92ad-57c2fb79c0c4",
   "metadata": {
    "tags": []
   },
   "outputs": [],
   "source": [
    "import os\n",
    "import yaml\n",
    "import subprocess\n",
    "TOKEN = subprocess.check_output([\"oc\",\"whoami\",\"-t\"]).decode('utf-8').strip()\n",
    "from model_registry import ModelRegistry\n",
    "os.environ[\"CERT\"] = \"domain.crt\"\n",
    "registry=ModelRegistry(\"https://modelregistry-sample-rest.PLACEHOLDER\", 443, author=\"Tony\", user_token=TOKEN)\n",
    "\n",
    "model = registry.register_model(\n",
    "    \"test minst\",  # model name\n",
    "    \"https://github.com/tarilabs/demo20231212/raw/main/v1.nb20231206162408/mnist.onnx\",  # model URI\n",
    "    version=\"2.0.0\",\n",
    "    description=\"lorem ipsum\",\n",
    "    model_format_name=\"onnx\",\n",
    "    model_format_version=\"1\",\n",
    "    storage_key=\"my-data-connection\",\n",
    "    storage_path=\"path/to/model\",\n",
    "    metadata={\n",
    "        # can be one of the following types\n",
    "        \"int_key\": 1,\n",
    "        \"bool_key\": False,\n",
    "        \"float_key\": 3.14,\n",
    "        \"str_key\": \"str_value\",\n",
    "    }\n",
    ")\n",
    "\n",
    "def object_to_dict(obj):\n",
    "    if hasattr(obj, '__dict__'):\n",
    "        return obj.__dict__\n",
    "    else:\n",
    "        return obj\n",
    "    \n",
    "model = registry.get_registered_model(\"test minst\")\n",
    "print(yaml.dump(object_to_dict(model), sort_keys=False, default_flow_style=False))\n",
    "\n",
    "version = registry.get_model_version(\"test minst\", \"2.0.0\")\n",
    "print(yaml.dump(object_to_dict(version), sort_keys=False, default_flow_style=False))\n",
    "\n",
    "experiment = registry.get_model_artifact(\"test minst\", \"2.0.0\")\n",
    "print(yaml.dump(object_to_dict(experiment), sort_keys=False, default_flow_style=False))                                 "
   ]
  },
  {
   "cell_type": "code",
   "execution_count": null,
   "id": "678a3392",
   "metadata": {},
   "outputs": [],
   "source": [
    "import yaml\n",
    "version.description = \"Updated model version\"\n",
    "version = registry.update(version)\n",
    "version_dict = {\n",
    "    \"id\": version.id,\n",
    "    \"description\": version.description,\n",
    "    \"external_id\": version.external_id,\n",
    "    \"create_time_since_epoch\": version.create_time_since_epoch,\n",
    "    \"last_update_time_since_epoch\": version.last_update_time_since_epoch,\n",
    "    \"custom_properties\": version.custom_properties,\n",
    "    \"name\": version.name,\n",
    "    \"author\": version.author,\n",
    "    \"state\": str(version.state)\n",
    "}\n",
    "print(yaml.dump(version_dict, sort_keys=False, default_flow_style=False))"
   ]
  },
  {
   "cell_type": "code",
   "execution_count": null,
   "id": "5da18b2d",
   "metadata": {},
   "outputs": [],
   "source": [
    "import yaml\n",
    "\n",
    "def object_to_dict(obj):\n",
    "    if hasattr(obj, '__dict__'):\n",
    "        return obj.__dict__\n",
    "    else:\n",
    "        return obj\n",
    "\n",
    "for model in registry.get_registered_models():\n",
    "    print(yaml.dump(object_to_dict(model), sort_keys=False, default_flow_style=False))"
   ]
  },
  {
   "cell_type": "code",
   "execution_count": null,
   "id": "bd3ac694",
   "metadata": {},
   "outputs": [],
   "source": [
    "import yaml\n",
    "for version in registry.get_model_versions(\"test minst\"):\n",
    "    version_dict = {\n",
    "        \"id\": version.id,\n",
    "        \"description\": version.description,\n",
    "        \"external_id\": version.external_id,\n",
    "        \"create_time_since_epoch\": version.create_time_since_epoch,\n",
    "        \"last_update_time_since_epoch\": version.last_update_time_since_epoch,\n",
    "        \"custom_properties\": version.custom_properties,\n",
    "        \"name\": version.name,\n",
    "        \"state\": str(version.state)\n",
    "    }\n",
    "    print(yaml.dump(version_dict, sort_keys=False, default_flow_style=False))"
   ]
  }
 ],
 "metadata": {
  "kernelspec": {
   "display_name": "Python 3.9",
   "language": "python",
   "name": "python3"
  },
  "language_info": {
   "codemirror_mode": {
    "name": "ipython",
    "version": 3
   },
   "file_extension": ".py",
   "mimetype": "text/x-python",
   "name": "python",
   "nbconvert_exporter": "python",
   "pygments_lexer": "ipython3",
   "version": "3.9.18"
  }
 },
 "nbformat": 4,
 "nbformat_minor": 5
}
