{
 "cells": [
  {
   "cell_type": "code",
   "execution_count": null,
   "id": "0c76fa56-07ef-4238-9f8b-faab2ad33f64",
   "metadata": {
    "tags": []
   },
   "outputs": [],
   "source": [
    "!pip install python-dotenv"
   ]
  },
  {
   "cell_type": "code",
   "execution_count": null,
   "id": "62280df3-74a4-48d8-be64-5b4b73f0eb4b",
   "metadata": {
    "tags": []
   },
   "outputs": [],
   "source": [
    "!pip install --pre model-registry=='0.2.3a1'"
   ]
  },
  {
   "cell_type": "code",
   "execution_count": null,
   "id": "9c27045c-68f7-423e-9f29-8b865fbe8388",
   "metadata": {
    "tags": []
   },
   "outputs": [],
   "source": [
    "import os\n",
    "from dotenv import load_dotenv\n",
    "load_dotenv(dotenv_path='istio.env')\n",
    "DOMAIN = os.getenv('DOMAIN')\n",
    "print(DOMAIN)"
   ]
  },
  {
   "cell_type": "code",
   "execution_count": null,
   "id": "6e102db9-88c6-4a5e-92ad-57c2fb79c0c4",
   "metadata": {
    "tags": []
   },
   "outputs": [],
   "source": [
    "import os\n",
    "import subprocess\n",
    "TOKEN = subprocess.check_output([\"oc\",\"whoami\",\"-t\"]).decode('utf-8').strip()\n",
    "from model_registry import ModelRegistry\n",
    "os.environ[\"CERT\"] = \"domain.crt\"\n",
    "registry=ModelRegistry(\"https://modelregistry-sample-rest.PLACEHOLDER\", 443, author=\"Tony\", user_token=TOKEN)\n",
    "                                 "
   ]
  },
  {
   "cell_type": "code",
   "execution_count": null,
   "id": "354a584a",
   "metadata": {},
   "outputs": [],
   "source": [
    "registeredmodel_name = \"mnist\"\n",
    "version_name = \"v0.1\"\n",
    "\n",
    "rm = registry.register_model(\n",
    "    registeredmodel_name,\n",
    "    \"https://github.com/tarilabs/demo20231212/raw/main/v1.nb20231206162408/mnist.onnx\",\n",
    "    model_format_name=\"onnx\",\n",
    "    model_format_version=\"1\",\n",
    "    version=version_name,\n",
    "    description=\"lorem ipsum minst 1\",\n",
    "    metadata={\n",
    "        \"accuracy\": 3.14,\n",
    "        \"license\": \"apache-2.0\"\n",
    "    }\n",
    ")"
   ]
  },
  {
   "cell_type": "code",
   "execution_count": null,
   "id": "678a3392",
   "metadata": {},
   "outputs": [],
   "source": [
    "registeredmodel_name = \"mnist\"\n",
    "version_name = \"v0.2\"\n",
    "\n",
    "rm = registry.register_model(\n",
    "    registeredmodel_name,\n",
    "    \"https://github.com/tarilabs/demo20231212/raw/main/v1.nb20231206162408/mnist.onnx\",\n",
    "    model_format_name=\"onnx\",\n",
    "    model_format_version=\"2\",\n",
    "    version=version_name,\n",
    "    description=\"lorem ipsum minst 2\",\n",
    "    metadata={\n",
    "        \"accuracy\": 3.14,\n",
    "        \"license\": \"apache-2.0\"\n",
    "    }\n",
    ")"
   ]
  },
  {
   "cell_type": "code",
   "execution_count": null,
   "id": "bd3ac694",
   "metadata": {},
   "outputs": [],
   "source": [
    "model = registry.get_registered_model(\"mnist\")\n",
    "model"
   ]
  },
  {
   "cell_type": "code",
   "execution_count": null,
   "id": "63ecc47a",
   "metadata": {},
   "outputs": [],
   "source": [
    "version = registry.get_model_version(\"mnist\", \"v0.1\")\n",
    "version"
   ]
  },
  {
   "cell_type": "code",
   "execution_count": null,
   "id": "14f6796f",
   "metadata": {},
   "outputs": [],
   "source": [
    "version = registry.get_model_version(\"mnist\", \"v0.2\")\n",
    "version"
   ]
  },
  {
   "cell_type": "code",
   "execution_count": null,
   "id": "35f3b2d8",
   "metadata": {},
   "outputs": [],
   "source": [
    "experiment = registry.get_model_artifact(\"mnist\", \"v0.1\")\n",
    "experiment"
   ]
  },
  {
   "cell_type": "code",
   "execution_count": null,
   "id": "e1ce5564",
   "metadata": {},
   "outputs": [],
   "source": [
    "experiment = registry.get_model_artifact(\"mnist\", \"v0.2\")\n",
    "experiment"
   ]
  }
 ],
 "metadata": {
  "kernelspec": {
   "display_name": "Python 3.9",
   "language": "python",
   "name": "python3"
  },
  "language_info": {
   "codemirror_mode": {
    "name": "ipython",
    "version": 3
   },
   "file_extension": ".py",
   "mimetype": "text/x-python",
   "name": "python",
   "nbconvert_exporter": "python",
   "pygments_lexer": "ipython3",
   "version": "3.9.18"
  }
 },
 "nbformat": 4,
 "nbformat_minor": 5
}
