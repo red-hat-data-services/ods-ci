{
 "cells": [
  {
   "cell_type": "code",
   "execution_count": 1,
   "id": "91bdbbae-e32a-45a6-8cad-e73475457129",
   "metadata": {
    "tags": []
   },
   "outputs": [
    {
     "name": "stdout",
     "output_type": "stream",
     "text": [
      "Requirement already satisfied: boto3 in /opt/app-root/lib/python3.9/site-packages (1.34.69)\n",
      "Requirement already satisfied: botocore<1.35.0,>=1.34.69 in /opt/app-root/lib/python3.9/site-packages (from boto3) (1.34.69)\n",
      "Requirement already satisfied: s3transfer<0.11.0,>=0.10.0 in /opt/app-root/lib/python3.9/site-packages (from boto3) (0.10.1)\n",
      "Requirement already satisfied: jmespath<2.0.0,>=0.7.1 in /opt/app-root/lib/python3.9/site-packages (from boto3) (1.0.1)\n",
      "Requirement already satisfied: python-dateutil<3.0.0,>=2.1 in /opt/app-root/lib/python3.9/site-packages (from botocore<1.35.0,>=1.34.69->boto3) (2.8.2)\n",
      "Requirement already satisfied: urllib3<1.27,>=1.25.4 in /opt/app-root/lib/python3.9/site-packages (from botocore<1.35.0,>=1.34.69->boto3) (1.26.18)\n",
      "Requirement already satisfied: six>=1.5 in /opt/app-root/lib/python3.9/site-packages (from python-dateutil<3.0.0,>=2.1->botocore<1.35.0,>=1.34.69->boto3) (1.16.0)\n",
      "\n",
      "\u001b[1m[\u001b[0m\u001b[34;49mnotice\u001b[0m\u001b[1;39;49m]\u001b[0m\u001b[39;49m A new release of pip available: \u001b[0m\u001b[31;49m22.2.2\u001b[0m\u001b[39;49m -> \u001b[0m\u001b[32;49m24.0\u001b[0m\n",
      "\u001b[1m[\u001b[0m\u001b[34;49mnotice\u001b[0m\u001b[1;39;49m]\u001b[0m\u001b[39;49m To update, run: \u001b[0m\u001b[32;49mpip install --upgrade pip\u001b[0m\n",
      "Requirement already satisfied: model-registry in /opt/app-root/lib/python3.9/site-packages (0.1.2)\n",
      "Requirement already satisfied: attrs<22.0,>=21.0 in /opt/app-root/lib/python3.9/site-packages (from model-registry) (21.4.0)\n",
      "Requirement already satisfied: typing-extensions<5.0,>=4.8 in /opt/app-root/lib/python3.9/site-packages (from model-registry) (4.10.0)\n",
      "Requirement already satisfied: ml-metadata<2.0.0,>=1.14.0 in /opt/app-root/lib/python3.9/site-packages (from model-registry) (1.14.0)\n",
      "Requirement already satisfied: protobuf<4,>=3.13 in /opt/app-root/lib/python3.9/site-packages (from ml-metadata<2.0.0,>=1.14.0->model-registry) (3.20.3)\n",
      "Requirement already satisfied: grpcio<2,>=1.8.6 in /opt/app-root/lib/python3.9/site-packages (from ml-metadata<2.0.0,>=1.14.0->model-registry) (1.62.1)\n",
      "Requirement already satisfied: absl-py<2.0.0,>=0.9 in /opt/app-root/lib/python3.9/site-packages (from ml-metadata<2.0.0,>=1.14.0->model-registry) (1.4.0)\n",
      "Requirement already satisfied: six<2,>=1.10 in /opt/app-root/lib/python3.9/site-packages (from ml-metadata<2.0.0,>=1.14.0->model-registry) (1.16.0)\n",
      "\n",
      "\u001b[1m[\u001b[0m\u001b[34;49mnotice\u001b[0m\u001b[1;39;49m]\u001b[0m\u001b[39;49m A new release of pip available: \u001b[0m\u001b[31;49m22.2.2\u001b[0m\u001b[39;49m -> \u001b[0m\u001b[32;49m24.0\u001b[0m\n",
      "\u001b[1m[\u001b[0m\u001b[34;49mnotice\u001b[0m\u001b[1;39;49m]\u001b[0m\u001b[39;49m To update, run: \u001b[0m\u001b[32;49mpip install --upgrade pip\u001b[0m\n"
     ]
    }
   ],
   "source": [
    "from datetime import datetime\n",
    "!pip install boto3\n",
    "!pip install model-registry\n",
    "import os\n",
    "import boto3"
   ]
  },
  {
   "cell_type": "code",
   "execution_count": 2,
   "id": "8ef9937b-a807-491a-8e74-0b8fb0d1a950",
   "metadata": {
    "tags": []
   },
   "outputs": [
    {
     "name": "stdout",
     "output_type": "stream",
     "text": [
      "Will be using: mnist:v1.nb20240325181713 in the remainder of this task\n"
     ]
    }
   ],
   "source": [
    "registeredmodel_name = \"mnist\"\n",
    "version_name = \"v1.nb\"+datetime.now().strftime(\"%Y%m%d%H%M%S\")\n",
    "print(f\"Will be using: {registeredmodel_name}:{version_name} in the remainder of this task\")"
   ]
  },
  {
   "cell_type": "code",
   "execution_count": 3,
   "id": "59cf199c-ecc1-4999-b576-2d947b69e0ba",
   "metadata": {
    "tags": []
   },
   "outputs": [],
   "source": [
    "s3 = boto3.resource(\n",
    "    service_name='s3',\n",
    "    region_name=os.environ['AWS_DEFAULT_REGION'],\n",
    "    aws_access_key_id=os.environ['AWS_ACCESS_KEY_ID'],\n",
    "    aws_secret_access_key=os.environ['AWS_SECRET_ACCESS_KEY'],\n",
    "    use_ssl=False,\n",
    "    endpoint_url=os.environ['AWS_S3_ENDPOINT'],\n",
    "    verify=False\n",
    ")"
   ]
  },
  {
   "cell_type": "code",
   "execution_count": 4,
   "id": "4f7969e5-98c1-4328-8e8d-6e783b68af5a",
   "metadata": {
    "tags": []
   },
   "outputs": [],
   "source": [
    "bucket_name = os.environ['AWS_S3_BUCKET']\n",
    "odh_secret_name = f'aws-connection-{bucket_name}'\n",
    "in_bucket_path = version_name\n"
   ]
  },
  {
   "cell_type": "code",
   "execution_count": 5,
   "id": "3525d43c-35b8-419b-a7fd-e316f4f03246",
   "metadata": {
    "tags": []
   },
   "outputs": [
    {
     "name": "stdout",
     "output_type": "stream",
     "text": [
      "{'registry/v1.nb20240325181713/mnist.onnx'}\n"
     ]
    }
   ],
   "source": [
    "in_bucket_target = f'registry/{in_bucket_path}/mnist.onnx'\n",
    "print({in_bucket_target})"
   ]
  },
  {
   "cell_type": "code",
   "execution_count": 6,
   "id": "51ccc75b-49f4-45bf-b4dc-2d07515bec37",
   "metadata": {
    "tags": []
   },
   "outputs": [
    {
     "name": "stdout",
     "output_type": "stream",
     "text": [
      "{s3.Bucket(name='ods-ci-ds-pipelines')}\n"
     ]
    }
   ],
   "source": [
    "my_bucket = s3.Bucket(bucket_name)\n",
    "my_bucket.upload_file(\"mnist.onnx\", in_bucket_target)\n",
    "print({my_bucket})"
   ]
  },
  {
   "cell_type": "code",
   "execution_count": 7,
   "id": "8c23485f-3122-4a0f-b279-925b4559166b",
   "metadata": {
    "tags": []
   },
   "outputs": [
    {
     "name": "stdout",
     "output_type": "stream",
     "text": [
      "ls:\n",
      "registry/\n",
      "registry/v1.nb20240325180615/mnist.onnx\n",
      "registry/v1.nb20240325181713/mnist.onnx\n"
     ]
    }
   ],
   "source": [
    "my_bucket = s3.Bucket(bucket_name)\n",
    "my_bucket.upload_file(\"mnist.onnx\", in_bucket_target)\n",
    "\n",
    "print(\"ls:\")\n",
    "for obj in my_bucket.objects.filter(Prefix='registry'):\n",
    "    print(obj.key)"
   ]
  },
  {
   "cell_type": "code",
   "execution_count": 8,
   "id": "01e278c5-3f8d-48ce-be0a-419e1e272b22",
   "metadata": {
    "tags": []
   },
   "outputs": [
    {
     "name": "stdout",
     "output_type": "stream",
     "text": [
      "['NotebookIntegration.ipynb', 'mnist.onnx', '.ipynb_checkpoints', 'lost+found', '.local', '.ipython', '.jupyter', '.cache']\n"
     ]
    }
   ],
   "source": [
    "files = os.listdir(os.curdir) \n",
    "print(files)"
   ]
  },
  {
   "cell_type": "code",
   "execution_count": 9,
   "id": "648b0ce7-0594-4738-9753-d8cf86e1a832",
   "metadata": {
    "tags": []
   },
   "outputs": [],
   "source": [
    "from model_registry import ModelRegistry\n",
    "\n",
    "registry = ModelRegistry(server_address=\"modelregistry-sample.model-registry-project.svc.cluster.local\", port=9090, author=\"author\")"
   ]
  },
  {
   "cell_type": "code",
   "execution_count": 10,
   "id": "269f72b8-b572-4cac-a7a9-85397ec6914b",
   "metadata": {
    "tags": []
   },
   "outputs": [
    {
     "ename": "NameError",
     "evalue": "name 'full_bucket_target' is not defined",
     "output_type": "error",
     "traceback": [
      "\u001b[0;31m---------------------------------------------------------------------------\u001b[0m",
      "\u001b[0;31mNameError\u001b[0m                                 Traceback (most recent call last)",
      "Cell \u001b[0;32mIn[10], line 2\u001b[0m\n\u001b[1;32m      1\u001b[0m rm \u001b[38;5;241m=\u001b[39m registry\u001b[38;5;241m.\u001b[39mregister_model(registeredmodel_name,\n\u001b[0;32m----> 2\u001b[0m                                 \u001b[43mfull_bucket_target\u001b[49m,\n\u001b[1;32m      3\u001b[0m                                 model_format_name\u001b[38;5;241m=\u001b[39m\u001b[38;5;124m\"\u001b[39m\u001b[38;5;124monnx\u001b[39m\u001b[38;5;124m\"\u001b[39m,\n\u001b[1;32m      4\u001b[0m                                 model_format_version\u001b[38;5;241m=\u001b[39m\u001b[38;5;124m\"\u001b[39m\u001b[38;5;124m1\u001b[39m\u001b[38;5;124m\"\u001b[39m,\n\u001b[1;32m      5\u001b[0m                                 storage_key\u001b[38;5;241m=\u001b[39modh_secret_name,\n\u001b[1;32m      6\u001b[0m                                 storage_path\u001b[38;5;241m=\u001b[39min_bucket_path,\n\u001b[1;32m      7\u001b[0m                                 version\u001b[38;5;241m=\u001b[39mversion_name,\n\u001b[1;32m      8\u001b[0m                                 description\u001b[38;5;241m=\u001b[39m\u001b[38;5;124m\"\u001b[39m\u001b[38;5;124mdemo20231121 e2e MNIST\u001b[39m\u001b[38;5;124m\"\u001b[39m,\n\u001b[1;32m      9\u001b[0m                                 )\n",
      "\u001b[0;31mNameError\u001b[0m: name 'full_bucket_target' is not defined"
     ]
    }
   ],
   "source": [
    "rm = registry.register_model(registeredmodel_name,\n",
    "                                in_bucket_target,\n",
    "                                model_format_name=\"onnx\",\n",
    "                                model_format_version=\"1\",\n",
    "                                storage_key=odh_secret_name,\n",
    "                                storage_path=in_bucket_path,\n",
    "                                version=version_name,\n",
    "                                description=\"demo20231121 e2e MNIST\",\n",
    "                                )"
   ]
  },
  {
   "cell_type": "code",
   "execution_count": null,
   "id": "763585ef-d4b3-4db3-9be2-788736032350",
   "metadata": {
    "tags": []
   },
   "outputs": [],
   "source": [
    "print(\"RegisteredModel:\")\n",
    "print(registry.get_registered_model(registeredmodel_name))\n",
    "print(\"ModelVersion:\")\n",
    "print(registry.get_model_version(registeredmodel_name, version_name))\n",
    "print(\"ModelArtifact:\")\n",
    "print(registry.get_model_artifact(registeredmodel_name, version_name))"
   ]
  },
  {
   "cell_type": "code",
   "execution_count": null,
   "id": "17f890c0-ed13-4464-b08f-3a2f2f5bc915",
   "metadata": {},
   "outputs": [],
   "source": []
  }
 ],
 "metadata": {
  "kernelspec": {
   "display_name": "Python 3.9",
   "language": "python",
   "name": "python3"
  },
  "language_info": {
   "codemirror_mode": {
    "name": "ipython",
    "version": 3
   },
   "file_extension": ".py",
   "mimetype": "text/x-python",
   "name": "python",
   "nbconvert_exporter": "python",
   "pygments_lexer": "ipython3",
   "version": "3.9.18"
  }
 },
 "nbformat": 4,
 "nbformat_minor": 5
}
