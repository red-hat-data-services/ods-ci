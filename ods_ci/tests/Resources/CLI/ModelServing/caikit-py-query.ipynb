{
 "cells": [
  {
   "cell_type": "code",
   "execution_count": null,
   "id": "327091d3-ece5-4ad1-b53f-7ac76c90c355",
   "metadata": {
    "tags": []
   },
   "outputs": [],
   "source": [
    "!pip install caikit-nlp-client"
   ]
  },
  {
   "cell_type": "code",
   "execution_count": null,
   "id": "a14fdacb-9641-4782-b1b2-bfa1522a4630",
   "metadata": {
    "tags": []
   },
   "outputs": [],
   "source": [
    "from caikit_nlp_client import GrpcClient, HttpClient\n",
    "import os"
   ]
  },
  {
   "cell_type": "code",
   "execution_count": null,
   "id": "8d1b7329-9368-4ec5-8f90-0462f478f031",
   "metadata": {
    "tags": []
   },
   "outputs": [],
   "source": [
    "MODEL_ID = os.environ[\"MODEL_ID\"]\n",
    "HTTP_HOST = os.environ[\"HTTP_HOST\"]\n",
    "GRPC_HOST = os.environ[\"GRPC_HOST\"]\n",
    "PORT = os.environ[\"PORT\"]\n",
    "QUERY_TEXT = os.environ[\"QUERY_TEXT\"] # text = \"At what temperature does water boil?\"\n",
    "EXPECTED_ANSWER = os.environ[\"EXPECTED_ANSWER\"]"
   ]
  },
  {
   "cell_type": "markdown",
   "id": "7d48030c-afec-459b-a5a7-7e69f8f19f72",
   "metadata": {},
   "source": [
    "# HTTP"
   ]
  },
  {
   "cell_type": "markdown",
   "id": "c887b45b-37c2-4bdb-aadf-9d431e3d233a",
   "metadata": {},
   "source": [
    "## skip ssl validation"
   ]
  },
  {
   "cell_type": "code",
   "execution_count": null,
   "id": "68ff80f1-3645-45e5-961a-fe3398c21929",
   "metadata": {
    "tags": []
   },
   "outputs": [],
   "source": [
    "%%capture --no-display\n",
    "http_client = HttpClient(f\"{HTTP_HOST}:{PORT}\", verify=False)\n",
    "generated_text = http_client.generate_text(MODEL_ID, QUERY_TEXT)"
   ]
  },
  {
   "cell_type": "code",
   "execution_count": null,
   "id": "b134f83a",
   "metadata": {},
   "outputs": [],
   "source": [
    "print(generated_text)\n",
    "assert generated_text.strip() == EXPECTED_ANSWER.strip()"
   ]
  },
  {
   "cell_type": "markdown",
   "id": "8f3d6e1c-3bdb-43c0-a29a-e2523aa26629",
   "metadata": {},
   "source": [
    "## with TLS cert"
   ]
  },
  {
   "cell_type": "code",
   "execution_count": null,
   "id": "f1aa3f42-837f-4779-b380-eb88a098eb9b",
   "metadata": {
    "tags": []
   },
   "outputs": [],
   "source": [
    "http_client = HttpClient(f\"{HTTP_HOST}:{PORT}\", ca_cert_path=\"openshift_ca_istio_knative.crt\")\n",
    "generated_text = http_client.generate_text(MODEL_ID, QUERY_TEXT)\n",
    "print(generated_text)\n",
    "assert generated_text.strip() == EXPECTED_ANSWER.strip()"
   ]
  },
  {
   "cell_type": "markdown",
   "id": "16389c2f-e8c2-4ff7-8d8e-f0b00692a652",
   "metadata": {},
   "source": [
    "## with mTLS"
   ]
  },
  {
   "cell_type": "code",
   "execution_count": null,
   "id": "b86e636e-2793-447b-98d2-42e4098d55d6",
   "metadata": {
    "tags": []
   },
   "outputs": [],
   "source": [
    "http_client = HttpClient(f\"{HTTP_HOST}:{PORT}\",\n",
    "                         ca_cert_path=\"openshift_ca_istio_knative.crt\",\n",
    "                         client_cert_path=\"public.crt\",\n",
    "                         client_key_path=\"private.key\")\n",
    "generated_text = http_client.generate_text(MODEL_ID, QUERY_TEXT)\n",
    "print(generated_text)\n",
    "assert generated_text.strip() == EXPECTED_ANSWER.strip()"
   ]
  },
  {
   "cell_type": "markdown",
   "id": "f2a79e67-d235-4dbd-8ade-2bbbcdb4a64d",
   "metadata": {},
   "source": [
    "# gRPC"
   ]
  },
  {
   "cell_type": "markdown",
   "id": "5ff860a8-c2ca-469a-9980-88473763f16e",
   "metadata": {},
   "source": [
    "## skip ssl validation"
   ]
  },
  {
   "cell_type": "code",
   "execution_count": null,
   "id": "c1fc93ef-9e90-4076-84fd-477a57d3b0fe",
   "metadata": {
    "tags": []
   },
   "outputs": [],
   "source": [
    "%%capture --no-display\n",
    "grpc_client = GrpcClient(GRPC_HOST, int(PORT), verify=False)"
   ]
  },
  {
   "cell_type": "code",
   "execution_count": null,
   "id": "3bed4431",
   "metadata": {},
   "outputs": [],
   "source": [
    "generated_text = grpc_client.generate_text(MODEL_ID, QUERY_TEXT)\n",
    "print(generated_text)\n",
    "assert generated_text.strip() == EXPECTED_ANSWER.strip()"
   ]
  },
  {
   "cell_type": "markdown",
   "id": "520b655b-0d18-4a8c-8b05-318d42bacf16",
   "metadata": {},
   "source": [
    "## with TLS cert"
   ]
  },
  {
   "cell_type": "code",
   "execution_count": null,
   "id": "8fce9f84-0f3f-440d-a878-1da4d2050458",
   "metadata": {
    "tags": []
   },
   "outputs": [],
   "source": [
    "with open(\"openshift_ca_istio_knative.crt\", \"rb\") as fh:\n",
    "    ca_cert = fh.read()\n",
    "grpc_client = GrpcClient(GRPC_HOST, int(PORT), ca_cert=ca_cert)\n",
    "generated_text = grpc_client.generate_text(MODEL_ID, QUERY_TEXT)\n",
    "print(generated_text)\n",
    "assert generated_text.strip() == EXPECTED_ANSWER.strip()"
   ]
  },
  {
   "cell_type": "markdown",
   "id": "a878ede6-3e6d-49b4-ad14-d73de6a7c927",
   "metadata": {},
   "source": [
    "## with mTLS"
   ]
  },
  {
   "cell_type": "code",
   "execution_count": null,
   "id": "2e708533-53f3-457f-9680-0303779c268b",
   "metadata": {
    "tags": []
   },
   "outputs": [],
   "source": [
    "with open(\"openshift_ca_istio_knative.crt\", \"rb\") as fh:\n",
    "    ca_cert = fh.read()\n",
    "with open(\"public.crt\", \"rb\") as fh:\n",
    "    client_cert = fh.read()\n",
    "with open(\"private.key\", \"rb\") as fh:\n",
    "    client_key = fh.read()\n",
    "\n",
    "\n",
    "grpc_client = GrpcClient(GRPC_HOST, int(PORT), ca_cert=ca_cert, client_cert=client_cert, client_key=client_key)\n",
    "generated_text = grpc_client.generate_text(MODEL_ID, QUERY_TEXT)\n",
    "print(generated_text)\n",
    "assert generated_text.strip() == EXPECTED_ANSWER.strip()"
   ]
  },
  {
   "cell_type": "code",
   "execution_count": null,
   "id": "e1d9d6cf-b4ee-4f56-9a95-7e8782c8dd72",
   "metadata": {},
   "outputs": [],
   "source": []
  }
 ],
 "metadata": {
  "kernelspec": {
   "display_name": "Python 3.9",
   "language": "python",
   "name": "python3"
  },
  "language_info": {
   "codemirror_mode": {
    "name": "ipython",
    "version": 3
   },
   "file_extension": ".py",
   "mimetype": "text/x-python",
   "name": "python",
   "nbconvert_exporter": "python",
   "pygments_lexer": "ipython3",
   "version": "3.9.16"
  }
 },
 "nbformat": 4,
 "nbformat_minor": 5
}
